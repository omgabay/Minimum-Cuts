{
  "cells": [
    {
      "cell_type": "code",
      "execution_count": 360,
      "metadata": {
        "id": "nZh8aUBl3BUB"
      },
      "outputs": [],
      "source": [
        "import numpy as np \n",
        "import random\n",
        "import math"
      ]
    },
    {
      "cell_type": "markdown",
      "metadata": {
        "id": "ACnPWwzZ3BUC"
      },
      "source": [
        "<h2>Data Structures for Algorithm</h2>"
      ]
    },
    {
      "cell_type": "markdown",
      "metadata": {},
      "source": [
        "The Stoer-Wagner Algorithm for optimal minimum cuts is implemented using the following Data Structures: \n",
        "Graph data structure with adjacency matrix \n",
        "Disjoint-set data structure to find the sets of the cut\n",
        "Priority-Queue implemented using Binary Heap to find s-t Minimum Cuts  "
      ]
    },
    {
      "cell_type": "code",
      "execution_count": 361,
      "metadata": {
        "id": "zu-hTkci3BUE"
      },
      "outputs": [],
      "source": [
        "# class representing weighted directed edge\n",
        "class Edge:\n",
        "    def __init__(self, src: int, dst: int, w: int):\n",
        "        self.src = src \n",
        "        self.dest = dst\n",
        "        self.weight = w \n",
        "    def __str__(self):\n",
        "        return \"(\"+str(self.src)+\",\"+str(self.dest)+\", w=\"+str(self.weight)+\")\"     "
      ]
    },
    {
      "cell_type": "code",
      "execution_count": 362,
      "metadata": {
        "id": "ZP9UOfDX3BUE"
      },
      "outputs": [],
      "source": [
        "class Cut: \n",
        "    def __init__(self, rep1: set, rep2: set, weight: int):\n",
        "        self.weight = weight\n",
        "        self.rep1 = rep1\n",
        "        self.rep2 = rep2"
      ]
    },
    {
      "cell_type": "code",
      "execution_count": 363,
      "metadata": {
        "id": "FqqypQnI3BUF"
      },
      "outputs": [],
      "source": [
        "class UnionFind:\n",
        "    def __init__(self, V: int):\n",
        "        self.sets = {i:i for i in range(1,V+1)}\n",
        "        self.reps = {i for i in range (1,V+1)}\n",
        "        self.V = V\n",
        "\n",
        "\n",
        "    # find root-parent of set \n",
        "    def Find(self, v: int):\n",
        "        if self.sets[v] == v: \n",
        "            return v\n",
        "        rep = self.Find(self.sets[v]) # representative of set\n",
        "        self.sets[v] = rep\n",
        "        return rep \n",
        "           \n",
        "    def Union(self, v1: int, v2: int):\n",
        "        self.sets[v2] = self.Find(v1)\n",
        "        self.reps.remove(v2)\n",
        "        \n",
        "    def get_sets(self):\n",
        "        return self.reps\n",
        "       \n",
        "    def copy(self): \n",
        "        uf = UnionFind(self.V)\n",
        "        uf.sets = self.sets.copy()\n",
        "        uf.reps = self.reps.copy()  \n",
        "        \n",
        "    def print(self): \n",
        "        print(self.sets)\n",
        "        print(self.reps)      \n",
        "    \n",
        "           \n"
      ]
    },
    {
      "cell_type": "markdown",
      "metadata": {
        "id": "rmyauqRa3BUF"
      },
      "source": [
        "Class for Undirected Weighted Graph represented by Adjacency Matrix"
      ]
    },
    {
      "cell_type": "code",
      "execution_count": 364,
      "metadata": {
        "id": "8fA_AOY_3BUG"
      },
      "outputs": [],
      "source": [
        "class Graph:\n",
        "    def __init__(self, V: int, edges=[], file_name=\"\"):\n",
        "        self.edges = edges    # list of all edges of the graph \n",
        "        self.n = self.V =  V            # number of vertices  \n",
        "        self.E = len(edges)\n",
        "        self.adj_matrix = np.zeros(shape=(V+1,V+1), dtype=int)\n",
        "        self.Degree = np.zeros(V+1, dtype=np.int32)        \n",
        "        self.unionFind = UnionFind(V)\n",
        "        self.not_contracted = {i for i in range(1,V+1)}  # set containing vertices not contracted in G\n",
        "        self.file_name = file_name\n",
        "        self.Degree_test = np.zeros(V+1, dtype=np.int32)\n",
        "        for edge in edges: \n",
        "            i = edge.src\n",
        "            j = edge.dest\n",
        "            self.adj_matrix[i][j] = self.adj_matrix[j][i] = edge.weight\n",
        "            self.Degree[i] += edge.weight\n",
        "            self.Degree[j] += edge.weight\n",
        "            self.Degree_test[i] += edge.weight\n",
        "            self.Degree_test[j] += edge.weight       \n",
        "                \n",
        "\n",
        "\n",
        "\n",
        "    def contract_edge(self, src: int , dst: int):         \n",
        "        new_vertex, contracted =  (src,dst) if src<dst else (dst,src)\n",
        "        w = self.adj_matrix[src][dst]\n",
        "              \n",
        "        self.unionFind.Union(new_vertex,contracted)\n",
        "        self.adj_matrix[new_vertex][contracted] = self.adj_matrix[contracted][new_vertex] = 0 # Delete contracted edge (weight=0)\n",
        "        self.Degree[new_vertex] += self.Degree[contracted]-2*w   # update Degree array \n",
        "        self.Degree[contracted] = 0 \n",
        "\n",
        "        # adding weights to new vertex(after contraction)\n",
        "        # deleting edges of contracted vertex\n",
        "        for i in range(1,self.n+1):\n",
        "            self.adj_matrix[new_vertex][i] += self.adj_matrix[contracted][i]\n",
        "            self.adj_matrix[i][new_vertex] += self.adj_matrix[i][contracted]  # add weights of edges from contracted vertex\n",
        "            self.adj_matrix[i][contracted] = self.adj_matrix[contracted][i] = 0 # delete in-going and out-going edges of contracted vertex      \n",
        "        self.not_contracted.remove(contracted)    \n",
        "    \n",
        "    def Cut(self):\n",
        "        sets = list(self.unionFind.get_sets())  # dict contains sets - mapping between vertex to all the vertices that contracted to itself.\n",
        "        if len(sets) != 2: \n",
        "            return None \n",
        "        s , t = sets[0] , sets[1]    \n",
        "        \n",
        "        weight = self.Degree[t]\n",
        "        return Cut(s,t,weight)      \n",
        "       \n",
        "    def copy(self):\n",
        "        g_copy = Graph(self.n)\n",
        "        g_copy.unionFind = self.unionFind.copy()        \n",
        "        g_copy.Degree = self.Degree.copy()\n",
        "        g_copy.adj_matrix = self.adj_matrix.copy()\n",
        "        g_copy.not_contracted = self.not_contracted.copy()\n",
        "        g_copy = self.E\n",
        "        \n",
        "        return g_copy  \n",
        "        "
      ]
    },
    {
      "cell_type": "code",
      "execution_count": 365,
      "metadata": {
        "id": "7ZW2Or443BUG"
      },
      "outputs": [],
      "source": [
        "''' Element in Heap '''\n",
        "class Vertex: \n",
        "  def __init__(self,v: int):\n",
        "    self.vertex = v \n",
        "    self.weight = 0\n",
        "  def __str__(self):\n",
        "    return 'w={}'.format(self.weight)   \n",
        "\n",
        "class maxPriorityQ:\n",
        "    '''\n",
        "    PQ implemented with binary max-heap\n",
        "    the heap will sort the elements by the total weights connecting the vertex to the outside \n",
        "    '''\n",
        "    # ctor\n",
        "    def __init__(self, not_contracted: set):\n",
        "        self.size = len(not_contracted)\n",
        "        self.heap = [Vertex(v) for v in not_contracted] # first vertex is 1       \n",
        "        self.vertex_to_heap = {self.heap[i].vertex:i for i in range(self.size)}  # vertex to index at heap mapping; will be used in updating weights to vertex\n",
        "        \n",
        "    # Remove maximum element from the queue    \n",
        "    def extractMax(self):\n",
        "        if self.size == 0:\n",
        "            return None\n",
        "        root = self.heap[0]\n",
        "        leaf = self.heap[self.size-1].vertex\n",
        "        self.vertex_to_heap[root.vertex] = -1\n",
        "        self.vertex_to_heap[leaf] = 0 \n",
        "        self.heap[0] = self.heap[self.size-1]\n",
        "        self.size -= 1 \n",
        "        self.heapify()\n",
        "        return root\n",
        "\n",
        "    def left(self, index: int):\n",
        "        if index*2 < self.size:\n",
        "            return self.heap[index*2].weight\n",
        "        return None\n",
        "\n",
        "    def right(self, index: int):\n",
        "        if index*2+1 < self.size:\n",
        "            return self.heap[index*2+1].weight\n",
        "        return None    \n",
        "\n",
        "    def swap(self, ind1,ind2):\n",
        "        v1 , v2 = self.heap[ind1].vertex, self.heap[ind2].vertex\n",
        "        tmp = self.heap[ind1]\n",
        "        self.heap[ind1] = self.heap[ind2]\n",
        "        self.heap[ind2] = tmp \n",
        "        self.vertex_to_heap[v1] = ind2 \n",
        "        self.vertex_to_heap[v2] = ind1         \n",
        "\n",
        "    def heapify(self, root = 0):\n",
        "        sons = [self.left(root), self.right(root)]               \n",
        "        if sons[0] is None:\n",
        "            return\n",
        "        max = 2*root   # maximum set to left son        \n",
        "          \n",
        "        if sons[1] is not None and sons[1] >= sons[0]:\n",
        "            max = 2*root + 1 # maximum set to right son\n",
        "        if self.heap[max].weight > self.heap[root].weight:\n",
        "            self.swap(max,root)\n",
        "            self.heapify(max)\n",
        "        return \n",
        "\n",
        "    def updateAtIndex(self, vertex: int, weight: int):         \n",
        "        index = self.vertex_to_heap[vertex]\n",
        "        if index == -1: \n",
        "            return\n",
        "        self.heap[index].weight = self.heap[index].weight + weight\n",
        "        \n",
        "    def buildHeap(self):\n",
        "        startIndex = self.size // 2 -1  \n",
        "        for i in range(startIndex, -1,-1):\n",
        "            self.heapify(i)\n",
        "\n",
        "    def print(self): \n",
        "        for i in range(self.size):\n",
        "            print(self.heap[i], end=\"\")\n",
        "        print(' ')                             \n",
        "\n",
        "\n",
        "\n"
      ]
    },
    {
      "cell_type": "markdown",
      "metadata": {
        "id": "6qp20Hau3BUH"
      },
      "source": [
        "Parsing/Generating Graphs for txt files "
      ]
    },
    {
      "cell_type": "markdown",
      "metadata": {
        "id": "Ts7xuPYj3BUI"
      },
      "source": [
        "please modify the path variable to the current directory of dataset"
      ]
    },
    {
      "cell_type": "code",
      "execution_count": 366,
      "metadata": {
        "id": "4rCqxakx3BUI"
      },
      "outputs": [
        {
          "name": "stdout",
          "output_type": "stream",
          "text": [
            "Created Graph from input-file input_random_01_10.txt\n",
            "Created Graph from input-file input_random_02_10.txt\n",
            "Created Graph from input-file input_random_03_10.txt\n",
            "Created Graph from input-file input_random_04_10.txt\n",
            "Created Graph from input-file input_random_05_20.txt\n",
            "Created Graph from input-file input_random_06_20.txt\n",
            "Created Graph from input-file input_random_07_20.txt\n",
            "Created Graph from input-file input_random_08_20.txt\n",
            "Created Graph from input-file input_random_09_40.txt\n",
            "Created Graph from input-file input_random_10_40.txt\n",
            "Created Graph from input-file input_random_11_40.txt\n",
            "Created Graph from input-file input_random_12_40.txt\n",
            "Created Graph from input-file input_random_13_60.txt\n",
            "Created Graph from input-file input_random_14_60.txt\n",
            "Created Graph from input-file input_random_15_60.txt\n",
            "Created Graph from input-file input_random_16_60.txt\n",
            "Created Graph from input-file input_random_17_80.txt\n",
            "Created Graph from input-file input_random_18_80.txt\n",
            "Created Graph from input-file input_random_19_80.txt\n",
            "Created Graph from input-file input_random_20_80.txt\n",
            "Created Graph from input-file input_random_21_100.txt\n",
            "Created Graph from input-file input_random_22_100.txt\n",
            "Created Graph from input-file input_random_23_100.txt\n",
            "Created Graph from input-file input_random_24_100.txt\n",
            "Created Graph from input-file input_random_25_150.txt\n",
            "Created Graph from input-file input_random_26_150.txt\n",
            "Created Graph from input-file input_random_27_150.txt\n",
            "Created Graph from input-file input_random_28_150.txt\n",
            "Created Graph from input-file input_random_29_200.txt\n",
            "Created Graph from input-file input_random_30_200.txt\n",
            "Created Graph from input-file input_random_31_200.txt\n",
            "Created Graph from input-file input_random_32_200.txt\n",
            "Created Graph from input-file input_random_33_250.txt\n",
            "Created Graph from input-file input_random_34_250.txt\n",
            "Created Graph from input-file input_random_35_250.txt\n",
            "Created Graph from input-file input_random_36_250.txt\n",
            "Created Graph from input-file input_random_37_300.txt\n",
            "Created Graph from input-file input_random_38_300.txt\n",
            "Created Graph from input-file input_random_39_300.txt\n",
            "Created Graph from input-file input_random_40_300.txt\n",
            "Created Graph from input-file input_random_41_350.txt\n",
            "Created Graph from input-file input_random_42_350.txt\n",
            "Created Graph from input-file input_random_43_350.txt\n",
            "Created Graph from input-file input_random_44_350.txt\n",
            "Created Graph from input-file input_random_45_400.txt\n",
            "Created Graph from input-file input_random_46_400.txt\n",
            "Created Graph from input-file input_random_47_400.txt\n",
            "Created Graph from input-file input_random_48_400.txt\n",
            "Created Graph from input-file input_random_49_450.txt\n",
            "Created Graph from input-file input_random_50_450.txt\n",
            "Created Graph from input-file input_random_51_450.txt\n",
            "Created Graph from input-file input_random_52_450.txt\n",
            "Created Graph from input-file input_random_53_500.txt\n",
            "Created Graph from input-file input_random_54_500.txt\n",
            "Created Graph from input-file input_random_55_500.txt\n",
            "Created Graph from input-file input_random_56_500.txt\n",
            "56 Graphs Created!\n"
          ]
        }
      ],
      "source": [
        "import os \n",
        "path = \".\"  # modify\n",
        "\n",
        "def generate_graph(file_name):\n",
        "    with open(file_name) as f:       \n",
        "        line = f.readline()\n",
        "        n_vertices,m_edges = [int(token) for token in line.split()]\n",
        "        edges = [] \n",
        "        for _ in range(m_edges):\n",
        "            line = f.readline()\n",
        "            src,dst,w = (int(token) for token in line.split())\n",
        "            edges.append(Edge(src,dst,w))\n",
        "    return Graph(n_vertices,edges ,os.path.splitext(file)[0].lower())        \n",
        "\n",
        "graphs = [] \n",
        "for file in os.listdir(path): \n",
        "    ext = os.path.splitext(file)[-1].lower()\n",
        "    if ext != \".txt\":\n",
        "      continue  \n",
        "    g = generate_graph(path+\"/\"+str(file))    \n",
        "    graphs.append(g)\n",
        "    print('Created Graph from input-file {}'.format(str(file)))\n",
        "print('{} Graphs Created!'.format(len(graphs)))    \n"
      ]
    },
    {
      "cell_type": "markdown",
      "metadata": {
        "id": "xuigCWf53BUJ"
      },
      "source": [
        "<h2>\n",
        "The Stoer-Wagner algorithm\n",
        "</h2>"
      ]
    },
    {
      "cell_type": "code",
      "execution_count": 367,
      "metadata": {
        "id": "9tWcfJ4J3BUJ"
      },
      "outputs": [],
      "source": [
        "def stMinCut(G: Graph):   \n",
        "    priority_q = maxPriorityQ(G.not_contracted)  \n",
        "    S = []\n",
        "    \n",
        "    while len(S) < len(G.not_contracted):       \n",
        "        max = priority_q.extractMax()\n",
        "        S.append(max)\n",
        "        # iterate over all neighbors\n",
        "        for i in G.not_contracted:  \n",
        "            v = max.vertex                           \n",
        "            w = G.adj_matrix[i][v]\n",
        "            priority_q.updateAtIndex(vertex=i,weight=w)\n",
        "        priority_q.buildHeap() \n",
        "       \n",
        "    weight = G.Degree[S[-1].vertex]\n",
        "    if len(S) < 2: \n",
        "        print(\"ERROR, CUT should be at least with 2 vertices\")\n",
        "        return None \n",
        "    s, t = S[-1].vertex , S[-2].vertex\n",
        "    S = {s}\n",
        "    T = {t}    \n",
        "    cut = Cut(S,T,weight)  \n",
        "    return cut,s,t       \n"
      ]
    },
    {
      "cell_type": "markdown",
      "metadata": {
        "id": "syV0YE_V3BUJ"
      },
      "source": [
        "Global Minimun Cut Stoer-Wagner"
      ]
    },
    {
      "cell_type": "code",
      "execution_count": 368,
      "metadata": {
        "id": "tldqIJkx3BUJ"
      },
      "outputs": [],
      "source": [
        "def GlobalMinCut_SW(G: Graph):\n",
        "    if len(G.not_contracted) == 2: \n",
        "        return G.Cut()\n",
        "    else: \n",
        "        C1,s,t = stMinCut(G)\n",
        "        G.contract_edge(s,t) # contract the edge and look for minimum cut \n",
        "        C2 = GlobalMinCut_SW(G)\n",
        "        if C1.weight < C2.weight:\n",
        "            return C1\n",
        "        return C2        "
      ]
    },
    {
      "cell_type": "code",
      "execution_count": 369,
      "metadata": {
        "colab": {
          "base_uri": "https://localhost:8080/",
          "height": 728
        },
        "id": "dG9jJYcn3BUK",
        "outputId": "b2671bbe-320b-4d1d-9a04-544da79c54e7"
      },
      "outputs": [
        {
          "name": "stdout",
          "output_type": "stream",
          "text": [
            "------------------START input_random_01_10-------------------\n",
            "1 input_random_01_10 3056 3056\n",
            "------------------START input_random_02_10-------------------\n",
            "2 input_random_02_10 223 223\n",
            "------------------START input_random_03_10-------------------\n",
            "3 input_random_03_10 2302 2302\n",
            "------------------START input_random_04_10-------------------\n",
            "4 input_random_04_10 4974 4974\n",
            "------------------START input_random_05_20-------------------\n",
            "5 input_random_05_20 1526 1526\n",
            "------------------START input_random_06_20-------------------\n",
            "6 input_random_06_20 1684 1684\n",
            "------------------START input_random_07_20-------------------\n",
            "7 input_random_07_20 522 522\n",
            "------------------START input_random_08_20-------------------\n",
            "8 input_random_08_20 2866 2866\n",
            "------------------START input_random_09_40-------------------\n",
            "9 input_random_09_40 2266 2137\n",
            "------------------START input_random_10_40-------------------\n",
            "10 input_random_10_40 2480 1446\n",
            "------------------START input_random_11_40-------------------\n",
            "11 input_random_11_40 648 648\n",
            "------------------START input_random_12_40-------------------\n",
            "12 input_random_12_40 2486 2486\n",
            "------------------START input_random_13_60-------------------\n",
            "13 input_random_13_60 1282 1282\n",
            "------------------START input_random_14_60-------------------\n",
            "14 input_random_14_60 299 299\n",
            "------------------START input_random_15_60-------------------\n",
            "15 input_random_15_60 2113 2113\n",
            "------------------START input_random_16_60-------------------\n",
            "16 input_random_16_60 159 159\n",
            "------------------START input_random_17_80-------------------\n",
            "17 input_random_17_80 969 969\n",
            "------------------START input_random_18_80-------------------\n",
            "18 input_random_18_80 1756 1756\n",
            "------------------START input_random_19_80-------------------\n",
            "19 input_random_19_80 714 714\n",
            "------------------START input_random_20_80-------------------\n",
            "20 input_random_20_80 2610 2610\n",
            "------------------START input_random_21_100-------------------\n",
            "21 input_random_21_100 341 341\n",
            "------------------START input_random_22_100-------------------\n",
            "22 input_random_22_100 890 890\n",
            "------------------START input_random_23_100-------------------\n",
            "23 input_random_23_100 1335 772\n",
            "------------------START input_random_24_100-------------------\n",
            "24 input_random_24_100 1646 1561\n",
            "------------------START input_random_25_150-------------------\n",
            "25 input_random_25_150 951 951\n",
            "------------------START input_random_26_150-------------------\n",
            "26 input_random_26_150 424 424\n",
            "------------------START input_random_27_150-------------------\n",
            "27 input_random_27_150 1153 1153\n",
            "------------------START input_random_28_150-------------------\n",
            "28 input_random_28_150 707 707\n",
            "------------------START input_random_29_200-------------------\n",
            "29 input_random_29_200 939 484\n",
            "------------------START input_random_30_200-------------------\n",
            "30 input_random_30_200 850 850\n",
            "------------------START input_random_31_200-------------------\n",
            "31 input_random_31_200 1382 1382\n",
            "------------------START input_random_32_200-------------------\n",
            "32 input_random_32_200 1321 1102\n",
            "------------------START input_random_33_250-------------------\n",
            "33 input_random_33_250 346 346\n",
            "------------------START input_random_34_250-------------------\n",
            "34 input_random_34_250 381 381\n",
            "------------------START input_random_35_250-------------------\n",
            "35 input_random_35_250 129 129\n",
            "------------------START input_random_36_250-------------------\n",
            "36 input_random_36_250 670 670\n",
            "------------------START input_random_37_300-------------------\n",
            "37 input_random_37_300 1137 1137\n",
            "------------------START input_random_38_300-------------------\n",
            "38 input_random_38_300 869 869\n",
            "------------------START input_random_39_300-------------------\n",
            "39 input_random_39_300 868 868\n",
            "------------------START input_random_40_300-------------------\n",
            "40 input_random_40_300 1148 1148\n",
            "------------------START input_random_41_350-------------------\n",
            "41 input_random_41_350 676 676\n",
            "------------------START input_random_42_350-------------------\n",
            "42 input_random_42_350 563 290\n",
            "------------------START input_random_43_350-------------------\n",
            "43 input_random_43_350 818 818\n",
            "------------------START input_random_44_350-------------------\n",
            "44 input_random_44_350 175 175\n",
            "------------------START input_random_45_400-------------------\n",
            "45 input_random_45_400 508 508\n",
            "------------------START input_random_46_400-------------------\n",
            "46 input_random_46_400 904 904\n",
            "------------------START input_random_47_400-------------------\n",
            "47 input_random_47_400 362 362\n",
            "------------------START input_random_48_400-------------------\n",
            "48 input_random_48_400 621 509\n",
            "------------------START input_random_49_450-------------------\n",
            "49 input_random_49_450 400 400\n",
            "------------------START input_random_50_450-------------------\n",
            "50 input_random_50_450 364 364\n",
            "------------------START input_random_51_450-------------------\n",
            "51 input_random_51_450 336 336\n",
            "------------------START input_random_52_450-------------------\n",
            "52 input_random_52_450 639 639\n",
            "------------------START input_random_53_500-------------------\n",
            "53 input_random_53_500 43 43\n",
            "------------------START input_random_54_500-------------------\n",
            "54 input_random_54_500 805 805\n",
            "------------------START input_random_55_500-------------------\n",
            "55 input_random_55_500 363 363\n",
            "------------------START input_random_56_500-------------------\n",
            "56 input_random_56_500 1291 584\n"
          ]
        }
      ],
      "source": [
        "import time \n",
        "import json \n",
        "running_time = [0] * len(graphs)\n",
        "path = \".\"   # modify path to solution file \n",
        "with open(path+\"/solutions.json\") as read_file:\n",
        "    solutions  = json.load(read_file)\n",
        "    \n",
        "bad_files = [] \n",
        "for i in range(len(graphs)):\n",
        "    file_name = graphs[i].file_name\n",
        "    print(\"------------------START {}-------------------\".format(file_name))\n",
        "    start_time = time.time()\n",
        "    min_cut = GlobalMinCut_SW(graphs[i])\n",
        "    print(i+1,file_name, min_cut.weight, solutions[file_name])   \n",
        "    running_time[i] = time.time() - start_time \n",
        "    \n",
        "    \n",
        "\n",
        " \n",
        "\n",
        "\n"
      ]
    },
    {
      "cell_type": "markdown",
      "metadata": {},
      "source": [
        "<h2>Time Complexity Analysis</h2>\n"
      ]
    },
    {
      "cell_type": "code",
      "execution_count": 392,
      "metadata": {},
      "outputs": [
        {
          "data": {
            "image/png": "[encoded data removed]",
            "text/plain": [
              "<Figure size 432x288 with 1 Axes>"
            ]
          },
          "metadata": {
            "needs_background": "light"
          },
          "output_type": "display_data"
        }
      ],
      "source": [
        "import matplotlib.pyplot as plt \n",
        "graph_vertices = [g.V for g in graphs[40:]]\n",
        "graph_edges = [g.E for g in graphs[40:]]\n",
        "reference = [3.55e-3*math.pow(V,3)+math.pow(V,2)*math.log2(V) for V in graph_vertices]\n",
        "\n",
        "plt.plot(graph_vertices,reference)\n",
        "plt.plot(graph_vertices,running_time[40:])\n",
        "\n",
        "\n",
        "plt.legend(['Measured time','Asymptotic Complexity'])\n",
        "plt.ylabel('run time (seconds)')\n",
        "plt.xlabel('number of vertices')\n",
        "plt.show()\n"
      ]
    },
    {
      "cell_type": "markdown",
      "metadata": {},
      "source": [
        "Average Running-time"
      ]
    },
    {
      "cell_type": "code",
      "execution_count": null,
      "metadata": {},
      "outputs": [],
      "source": [
        "avg_exec = 0\n",
        "for i in range(len(running_time)):\n",
        "    avg_exec += running_time[i]\n",
        "avg_exec /= len(running_time)\n",
        "print(avg_exec)    \n",
        "print"
      ]
    }
  ],
  "metadata": {
    "colab": {
      "collapsed_sections": [],
      "name": "minCut_final.ipynb",
      "provenance": []
    },
    "kernelspec": {
      "display_name": "Python 3.9.12 ('base')",
      "language": "python",
      "name": "python3"
    },
    "language_info": {
      "codemirror_mode": {
        "name": "ipython",
        "version": 3
      },
      "file_extension": ".py",
      "mimetype": "text/x-python",
      "name": "python",
      "nbconvert_exporter": "python",
      "pygments_lexer": "ipython3",
      "version": "3.9.12"
    },
    "orig_nbformat": 4,
    "vscode": {
      "interpreter": {
        "hash": "813a118ffcaefd80d3e3cfa9b4de781e26b186a88833091817867fdd3449751e"
      }
    }
  },
  "nbformat": 4,
  "nbformat_minor": 0
}
