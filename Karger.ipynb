{
  "cells": [
    {
      "cell_type": "code",
      "execution_count": 6,
      "metadata": {
        "id": "nZh8aUBl3BUB"
      },
      "outputs": [],
      "source": [
        "import numpy as np \n",
        "import random\n",
        "import math"
      ]
    },
    {
      "cell_type": "markdown",
      "metadata": {
        "id": "ACnPWwzZ3BUC"
      },
      "source": [
        "<h2>Data Structures</h2>"
      ]
    },
    {
      "cell_type": "code",
      "execution_count": 7,
      "metadata": {
        "id": "zu-hTkci3BUE"
      },
      "outputs": [],
      "source": [
        "# class representing weighted directed edge\n",
        "class Edge:\n",
        "    def __init__(self, src: int, dst: int, w: int):\n",
        "        self.src = src \n",
        "        self.dest = dst\n",
        "        self.weight = w \n",
        "    def __str__(self):\n",
        "        return \"(\"+str(self.src)+\",\"+str(self.dest)+\", w=\"+str(self.weight)+\")\"     "
      ]
    },
    {
      "cell_type": "code",
      "execution_count": 8,
      "metadata": {
        "id": "ZP9UOfDX3BUE"
      },
      "outputs": [],
      "source": [
        "class Cut: \n",
        "    def __init__(self, rep1: set, rep2: set, weight: int):\n",
        "        self.weight = weight\n",
        "        self.rep1 = rep1\n",
        "        self.rep2 = rep2"
      ]
    },
    {
      "cell_type": "code",
      "execution_count": 9,
      "metadata": {
        "id": "8fA_AOY_3BUG"
      },
      "outputs": [],
      "source": [
        "class Graph:\n",
        "    def __init__(self, V: int, edges=[], file_name=\"\"):\n",
        "        self.edges = edges     # list of all edges of the graph \n",
        "        self.n = self.V =  V   # number of vertices  \n",
        "        self.adj_matrix = np.zeros(shape=(V+1,V+1), dtype=int)                \n",
        "        self.Degree = [0] * (V+1)\n",
        "        self.contracted  = 0  \n",
        "        self.not_contracted = {i for i in range(1,V+1)}\n",
        "        self.file_name = file_name\n",
        "        self.count = 0 \n",
        "        for edge in edges: \n",
        "            i = edge.src\n",
        "            j = edge.dest\n",
        "            self.adj_matrix[i][j] = self.adj_matrix[j][i] = edge.weight           \n",
        "            self.Degree[i] += edge.weight\n",
        "            self.Degree[j] += edge.weight         \n",
        "\n",
        "    def contract_edge(self, edge: Edge): \n",
        "        self.count +=1 # TO BE DELETED         \n",
        "        new_vertex, contracted = (edge.src,edge.dest) if edge.src<edge.dest else (edge.dest,edge.src)          \n",
        "        self.Degree[new_vertex] += self.Degree[contracted]-2*edge.weight   # update Degree array\n",
        "        self.Degree[contracted] = 0 \n",
        "       \n",
        "\n",
        "\n",
        "        # add edges to new_vertex, delete key of contracted vertex        \n",
        "        self.adj_matrix[new_vertex][contracted] = self.adj_matrix[contracted][new_vertex] = 0 # Delete contracted edge (weight=0)        \n",
        "        self.contracted += 1 \n",
        "        self.not_contracted.remove(contracted)  \n",
        "        for i in range(1,self.n+1):\n",
        "          if i == contracted or i == new_vertex or self.adj_matrix[contracted][i] == 0:\n",
        "            continue\n",
        "          w = self.adj_matrix[i][contracted]\n",
        "          if self.adj_matrix[new_vertex][i] == 0: \n",
        "            self.edges.append(Edge(new_vertex,i,w))\n",
        "          # add weights from contracted vertex          \n",
        "          self.adj_matrix[new_vertex][i] += w\n",
        "          self.adj_matrix[i][new_vertex] += w          \n",
        "\n",
        "          # delete in-going and outgoing edges to contracted\n",
        "          self.adj_matrix[contracted][i] = self.adj_matrix[i][contracted] = 0                \n",
        "                  \n",
        "        \n",
        "    def Cut_Weight(self):\n",
        "        if len(self.not_contracted) != 2: \n",
        "            print(\"GRAPH IS NOT FULLY CONTRACTED\")\n",
        "            return -1\n",
        "        \n",
        "        st = list(self.not_contracted)\n",
        "        s , t = st[0], st[1]\n",
        "        \n",
        "        if self.Degree[s] != self.Degree[t]:\n",
        "            print(\"s, t degrees are not equal\")\n",
        "        return self.Degree[s]    \n",
        "\n",
        "            \n",
        "    def copy(self):\n",
        "        g_copy = Graph(self.n)        \n",
        "        g_copy.contracted = self.contracted\n",
        "        g_copy.Degree = self.Degree.copy()        \n",
        "        g_copy.adj_matrix = self.adj_matrix.copy()\n",
        "        g_copy.not_contracted = self.not_contracted.copy()\n",
        "        g_copy.edges = self.edges.copy()\n",
        "        return g_copy  \n",
        "\n",
        "    def get_edges(self):   \n",
        "      edges = [] \n",
        "      for edge in self.edges:\n",
        "        if edge.src not in self.not_contracted or edge.dest not in self.not_contracted:\n",
        "          continue\n",
        "        else:\n",
        "          edges.append(Edge(edge.src,edge.dest,self.adj_matrix[edge.src][edge.dest])) # create new edge with updated weight after contraction \n",
        "      self.edges = edges\n",
        "      return self.edges      \n",
        "     \n",
        "     \n",
        "\n",
        "\n",
        "        "
      ]
    },
    {
      "cell_type": "markdown",
      "metadata": {
        "id": "qM0luTTL35IT"
      },
      "source": [
        "<h2>Generate Graphs from Input</h2>"
      ]
    },
    {
      "cell_type": "code",
      "execution_count": 10,
      "metadata": {
        "colab": {
          "base_uri": "https://localhost:8080/"
        },
        "id": "4rCqxakx3BUI",
        "outputId": "837d6761-4217-444e-ecd8-bfe7f99a25d1"
      },
      "outputs": [
        {
          "name": "stdout",
          "output_type": "stream",
          "text": [
            "Created Graph from input-file input_random_01_10.txt\n",
            "Created Graph from input-file input_random_02_10.txt\n",
            "Created Graph from input-file input_random_03_10.txt\n",
            "Created Graph from input-file input_random_04_10.txt\n",
            "Created Graph from input-file input_random_05_20.txt\n",
            "Created Graph from input-file input_random_06_20.txt\n",
            "Created Graph from input-file input_random_07_20.txt\n",
            "Created Graph from input-file input_random_08_20.txt\n",
            "Created Graph from input-file input_random_09_40.txt\n",
            "Created Graph from input-file input_random_10_40.txt\n",
            "Created Graph from input-file input_random_11_40.txt\n",
            "Created Graph from input-file input_random_12_40.txt\n",
            "Created Graph from input-file input_random_13_60.txt\n",
            "Created Graph from input-file input_random_14_60.txt\n",
            "Created Graph from input-file input_random_15_60.txt\n",
            "Created Graph from input-file input_random_16_60.txt\n",
            "Created Graph from input-file input_random_17_80.txt\n",
            "Created Graph from input-file input_random_18_80.txt\n",
            "Created Graph from input-file input_random_19_80.txt\n",
            "Created Graph from input-file input_random_20_80.txt\n",
            "Created Graph from input-file input_random_21_100.txt\n",
            "Created Graph from input-file input_random_22_100.txt\n",
            "Created Graph from input-file input_random_23_100.txt\n",
            "Created Graph from input-file input_random_24_100.txt\n",
            "Created Graph from input-file input_random_25_150.txt\n",
            "Created Graph from input-file input_random_26_150.txt\n",
            "Created Graph from input-file input_random_27_150.txt\n",
            "Created Graph from input-file input_random_28_150.txt\n",
            "Created Graph from input-file input_random_29_200.txt\n",
            "Created Graph from input-file input_random_30_200.txt\n",
            "Created Graph from input-file input_random_31_200.txt\n",
            "Created Graph from input-file input_random_32_200.txt\n",
            "Created Graph from input-file input_random_33_250.txt\n",
            "Created Graph from input-file input_random_34_250.txt\n",
            "Created Graph from input-file input_random_35_250.txt\n",
            "Created Graph from input-file input_random_36_250.txt\n",
            "Created Graph from input-file input_random_37_300.txt\n",
            "Created Graph from input-file input_random_38_300.txt\n",
            "Created Graph from input-file input_random_39_300.txt\n",
            "Created Graph from input-file input_random_40_300.txt\n",
            "Created Graph from input-file input_random_41_350.txt\n",
            "Created Graph from input-file input_random_42_350.txt\n",
            "Created Graph from input-file input_random_43_350.txt\n",
            "Created Graph from input-file input_random_44_350.txt\n",
            "Created Graph from input-file input_random_45_400.txt\n",
            "Created Graph from input-file input_random_46_400.txt\n",
            "Created Graph from input-file input_random_47_400.txt\n",
            "Created Graph from input-file input_random_48_400.txt\n",
            "Created Graph from input-file input_random_49_450.txt\n",
            "Created Graph from input-file input_random_50_450.txt\n",
            "Created Graph from input-file input_random_51_450.txt\n",
            "Created Graph from input-file input_random_52_450.txt\n",
            "Created Graph from input-file input_random_53_500.txt\n",
            "Created Graph from input-file input_random_54_500.txt\n",
            "Created Graph from input-file input_random_55_500.txt\n",
            "Created Graph from input-file input_random_56_500.txt\n",
            "56 Graphs Created!\n"
          ]
        }
      ],
      "source": [
        "import os \n",
        "path = \".\"   # modify\n",
        "\n",
        "def generate_graph(file_name):\n",
        "    with open(file_name) as f:       \n",
        "        line = f.readline()\n",
        "        n_vertices,m_edges = [int(token) for token in line.split()]\n",
        "        edges = [] \n",
        "        for _ in range(m_edges):\n",
        "            line = f.readline()\n",
        "            src,dst,w = (int(token) for token in line.split())\n",
        "            edges.append(Edge(src,dst,w))\n",
        "    return Graph(n_vertices,edges ,os.path.splitext(file)[0].lower())        \n",
        "\n",
        "graphs = [] \n",
        "for file in os.listdir(path): \n",
        "    ext = os.path.splitext(file)[-1].lower()\n",
        "    if ext != \".txt\":\n",
        "      continue  \n",
        "    g = generate_graph(path+\"/\"+str(file))\n",
        "    graphs.append(g)\n",
        "    print('Created Graph from input-file {}'.format(str(file)))\n",
        "\n",
        "print('{} Graphs Created!'.format(len(graphs)))"
      ]
    },
    {
      "cell_type": "markdown",
      "metadata": {
        "id": "atoeySkq35IU"
      },
      "source": [
        "<h2>Pick Edge for Contraction</h2>"
      ]
    },
    {
      "cell_type": "code",
      "execution_count": 11,
      "metadata": {
        "id": "UBk1GSpe35IU"
      },
      "outputs": [],
      "source": [
        "from bisect import bisect_left \n",
        "def pick_edge(G: Graph):\n",
        "    edges = G.get_edges()   \n",
        "    C = [0]*len(edges)    #Cumalative weight vector\n",
        "    C[0] = edges[0].weight\n",
        "    for i in range(1,len(edges)):\n",
        "        C[i] = C[i-1] + edges[i].weight\n",
        "    r = random.randint(0,C[len(edges)-1])\n",
        "    e_i = bisect_left(C,r)\n",
        "    return edges[e_i]    \n"
      ]
    },
    {
      "cell_type": "code",
      "execution_count": 12,
      "metadata": {
        "id": "TzNLOq6o35IV"
      },
      "outputs": [],
      "source": [
        "def Contract(G:Graph, k: int):    \n",
        "    while len(G.not_contracted) > k:\n",
        "        edge_to_contract = pick_edge(G)\n",
        "        G.contract_edge(edge_to_contract)\n",
        "    return G     \n"
      ]
    },
    {
      "cell_type": "code",
      "execution_count": 13,
      "metadata": {
        "colab": {
          "base_uri": "https://localhost:8080/",
          "height": 1000
        },
        "id": "LwJScuwA35IW",
        "outputId": "29655b73-9f8e-45c0-dfa6-59f70df5c217"
      },
      "outputs": [],
      "source": [
        "def Recursive_Contract(G: Graph):    \n",
        "    if len(G.not_contracted) <= 6:      \n",
        "      G_contracted = Contract(G,2)\n",
        "      return G_contracted.Cut_Weight()\n",
        "    t = math.ceil(len(G.not_contracted)/math.sqrt(2) + 1)   # t is the size of graph after contraction\n",
        "    g1_g2 = []\n",
        "    cut_weights = []  \n",
        "    for i in range(2):\n",
        "      g_copy = G.copy()  # making two copies of the graph for randomized contract\n",
        "      g1_g2.append(Contract(g_copy,t))\n",
        "      cut_weights.append(Recursive_Contract(g1_g2[i]))\n",
        "    return min(cut_weights[0],cut_weights[1])     \n",
        "\n"
      ]
    },
    {
      "cell_type": "code",
      "execution_count": 14,
      "metadata": {},
      "outputs": [
        {
          "name": "stdout",
          "output_type": "stream",
          "text": [
            "------------------START input_random_01_10-------------------\n",
            "Iteration 0: Found optimal solution for graph input_random_01_10 - cut weight = 3056\n",
            "min-cut found 3056, solution = 3056\n",
            "------------------START input_random_02_10-------------------\n",
            "Iteration 0: Found optimal solution for graph input_random_02_10 - cut weight = 223\n",
            "min-cut found 223, solution = 223\n",
            "------------------START input_random_03_10-------------------\n",
            "Iteration 0: Found optimal solution for graph input_random_03_10 - cut weight = 2302\n",
            "min-cut found 2302, solution = 2302\n",
            "------------------START input_random_04_10-------------------\n",
            "Iteration 0: Found optimal solution for graph input_random_04_10 - cut weight = 4974\n",
            "min-cut found 4974, solution = 4974\n",
            "------------------START input_random_05_20-------------------\n",
            "Iteration 0: Found optimal solution for graph input_random_05_20 - cut weight = 1526\n",
            "min-cut found 1526, solution = 1526\n",
            "------------------START input_random_06_20-------------------\n",
            "Iteration 0: Found optimal solution for graph input_random_06_20 - cut weight = 1684\n",
            "min-cut found 1684, solution = 1684\n",
            "------------------START input_random_07_20-------------------\n",
            "Iteration 0: Found optimal solution for graph input_random_07_20 - cut weight = 522\n",
            "min-cut found 522, solution = 522\n",
            "------------------START input_random_08_20-------------------\n",
            "Iteration 0: Found optimal solution for graph input_random_08_20 - cut weight = 2866\n",
            "min-cut found 2866, solution = 2866\n",
            "------------------START input_random_09_40-------------------\n",
            "Iteration 0: Found optimal solution for graph input_random_09_40 - cut weight = 2137\n",
            "min-cut found 2137, solution = 2137\n",
            "------------------START input_random_10_40-------------------\n",
            "Iteration 0: Found optimal solution for graph input_random_10_40 - cut weight = 1446\n",
            "min-cut found 1446, solution = 1446\n",
            "------------------START input_random_11_40-------------------\n",
            "Iteration 0: Found optimal solution for graph input_random_11_40 - cut weight = 648\n",
            "min-cut found 648, solution = 648\n",
            "------------------START input_random_12_40-------------------\n",
            "Iteration 0: Found optimal solution for graph input_random_12_40 - cut weight = 2486\n",
            "min-cut found 2486, solution = 2486\n",
            "------------------START input_random_13_60-------------------\n",
            "Iteration 0: Found optimal solution for graph input_random_13_60 - cut weight = 1282\n",
            "min-cut found 1282, solution = 1282\n",
            "------------------START input_random_14_60-------------------\n",
            "Iteration 0: Found optimal solution for graph input_random_14_60 - cut weight = 299\n",
            "min-cut found 299, solution = 299\n",
            "------------------START input_random_15_60-------------------\n",
            "Iteration 0: Found optimal solution for graph input_random_15_60 - cut weight = 2113\n",
            "min-cut found 2113, solution = 2113\n",
            "------------------START input_random_16_60-------------------\n",
            "Iteration 0: Found optimal solution for graph input_random_16_60 - cut weight = 159\n",
            "min-cut found 159, solution = 159\n",
            "------------------START input_random_17_80-------------------\n",
            "Iteration 0: Found optimal solution for graph input_random_17_80 - cut weight = 969\n",
            "min-cut found 969, solution = 969\n",
            "------------------START input_random_18_80-------------------\n",
            "Iteration 0: Found optimal solution for graph input_random_18_80 - cut weight = 1756\n",
            "min-cut found 1756, solution = 1756\n",
            "------------------START input_random_19_80-------------------\n",
            "Iteration 0: Found optimal solution for graph input_random_19_80 - cut weight = 714\n",
            "min-cut found 714, solution = 714\n",
            "------------------START input_random_20_80-------------------\n",
            "Iteration 0: Found optimal solution for graph input_random_20_80 - cut weight = 2610\n",
            "min-cut found 2610, solution = 2610\n",
            "------------------START input_random_21_100-------------------\n",
            "Iteration 0: Found optimal solution for graph input_random_21_100 - cut weight = 341\n",
            "min-cut found 341, solution = 341\n",
            "------------------START input_random_22_100-------------------\n",
            "Iteration 0: Found optimal solution for graph input_random_22_100 - cut weight = 890\n",
            "min-cut found 890, solution = 890\n",
            "------------------START input_random_23_100-------------------\n",
            "Iteration 0: Found optimal solution for graph input_random_23_100 - cut weight = 772\n",
            "min-cut found 772, solution = 772\n",
            "------------------START input_random_24_100-------------------\n",
            "Iteration 0: Found optimal solution for graph input_random_24_100 - cut weight = 1561\n",
            "min-cut found 1561, solution = 1561\n",
            "------------------START input_random_25_150-------------------\n",
            "Iteration 0: Found optimal solution for graph input_random_25_150 - cut weight = 951\n",
            "min-cut found 951, solution = 951\n",
            "------------------START input_random_26_150-------------------\n",
            "Iteration 0: Found optimal solution for graph input_random_26_150 - cut weight = 424\n",
            "min-cut found 424, solution = 424\n",
            "------------------START input_random_27_150-------------------\n",
            "Iteration 0: Found optimal solution for graph input_random_27_150 - cut weight = 1153\n",
            "min-cut found 1153, solution = 1153\n",
            "------------------START input_random_28_150-------------------\n",
            "Iteration 0: Found optimal solution for graph input_random_28_150 - cut weight = 707\n",
            "min-cut found 707, solution = 707\n",
            "------------------START input_random_29_200-------------------\n",
            "Iteration 0: Found optimal solution for graph input_random_29_200 - cut weight = 484\n",
            "min-cut found 484, solution = 484\n",
            "------------------START input_random_30_200-------------------\n",
            "Iteration 0: Found optimal solution for graph input_random_30_200 - cut weight = 850\n",
            "min-cut found 850, solution = 850\n",
            "------------------START input_random_31_200-------------------\n",
            "Iteration 0: Found optimal solution for graph input_random_31_200 - cut weight = 1382\n",
            "min-cut found 1382, solution = 1382\n"
          ]
        }
      ],
      "source": [
        "import time \n",
        "import json \n",
        "path = \".\"     # set path to solutions file (weight of minimum cuts) \n",
        "with open(path+\"/solutions.json\") as read_file:\n",
        "    solutions  = json.load(read_file)\n",
        "start_time = time.time()\n",
        "minimum_cuts_weights = {}\n",
        "execution_times = []\n",
        "discovery_times = []\n",
        "discovery_iterations = [] \n",
        "for i in range(len(graphs)):\n",
        "    file_name = graphs[i].file_name\n",
        "    print(\"------------------START {}-------------------\".format(file_name))\n",
        "    start_time = time.time()\n",
        "    discovery_iterations = [] \n",
        "    discovery_iteration = discovery_time = -1  # -1 if Karger didn't discover optimal solution \n",
        "    t = math.floor((math.log2(graphs[i].n)+1)) # number of iterations\n",
        "    for k in range(t):          \n",
        "        min_cut = Recursive_Contract(graphs[i])\n",
        "        if discovery_time == -1:\n",
        "            # optimal solution was not discovered \n",
        "            if min_cut == solutions[file_name]:\n",
        "                discovery_time = time.time()-start_time\n",
        "                discovery_iteration = k\n",
        "                minimum_cuts_weights[file_name] = min_cut\n",
        "                print(\"Iteration {}: Found optimal solution for graph {} - cut weight = {}\".format(discovery_iteration,file_name,solutions[file_name]))\n",
        "            if file_name not in minimum_cuts_weights or min_cut < minimum_cuts_weights[file_name]:\n",
        "                minimum_cuts_weights[file_name] = min_cut    \n",
        "    execution_times.append(time.time() - start_time) \n",
        "    discovery_iterations.append((discovery_iteration,t))\n",
        "    discovery_times.append(discovery_time)\n",
        "    print('min-cut found {}, solution = {}'.format(minimum_cuts_weights[file_name],solutions[file_name]))    \n"
      ]
    },
    {
      "cell_type": "markdown",
      "metadata": {},
      "source": [
        "<h2>Time Complexity Analysis</h2>\n"
      ]
    },
    {
      "cell_type": "markdown",
      "metadata": {},
      "source": [
        "Asymptotic Complexity of Krager-Stein Algoritm with log^2(n) iterations is O(n^2*log^3(n)).\n",
        "In this section we will compare the running-time with the asymptotic complexity"
      ]
    },
    {
      "cell_type": "code",
      "execution_count": 15,
      "metadata": {},
      "outputs": [
        {
          "data": {
            "image/png": "[encoded data removed]",
            "text/plain": [
              "<Figure size 432x288 with 1 Axes>"
            ]
          },
          "metadata": {
            "needs_background": "light"
          },
          "output_type": "display_data"
        }
      ],
      "source": [
        "import matplotlib.pyplot as plt \n",
        "graph_sizes = [g.V for g in graphs]\n",
        "reference = [1e-4*math.pow(n,2)*(math.log2(n)) for n in graph_sizes]\n",
        "plt.plot(graph_sizes[:31],reference[:31])\n",
        "plt.plot(graph_sizes[:31],execution_times)\n",
        "plt.legend(['Asymptotic Complexity', 'Measured time'])\n",
        "plt.ylabel('run time (seconds)')\n",
        "plt.xlabel('number of vertices')\n",
        "plt.show()\n"
      ]
    },
    {
      "cell_type": "markdown",
      "metadata": {},
      "source": [
        "<h4>Plot of discovery iteration compared to number of iterations</h4>"
      ]
    },
    {
      "cell_type": "code",
      "execution_count": 24,
      "metadata": {},
      "outputs": [
        {
          "data": {
            "image/png": "[encoded data removed]",
            "text/plain": [
              "<Figure size 432x288 with 1 Axes>"
            ]
          },
          "metadata": {
            "needs_background": "light"
          },
          "output_type": "display_data"
        }
      ],
      "source": [
        "import matplotlib.pyplot as plt \n",
        "graph_sizes = [g.V for g in graphs]\n",
        "plt.plot(graph_sizes[:31],discovery_times)\n",
        "plt.plot(graph_sizes[:31],execution_times)\n",
        "plt.legend(['Discovery Time', 'Execution Time'])\n",
        "plt.ylabel('Time in sec')\n",
        "plt.xlabel('number of vertices')\n",
        "plt.show()\n"
      ]
    },
    {
      "cell_type": "markdown",
      "metadata": {},
      "source": [
        "Average running time and Discovery time "
      ]
    },
    {
      "cell_type": "code",
      "execution_count": 26,
      "metadata": {},
      "outputs": [
        {
          "name": "stdout",
          "output_type": "stream",
          "text": [
            "13.757255784926876 1.7993300653273059\n"
          ]
        }
      ],
      "source": [
        "avg_exec = avg_discover = 0\n",
        "for i in range(len(execution_times)):\n",
        "    avg_exec += execution_times[i]\n",
        "    avg_discover += discovery_times[i]\n",
        "avg_exec /= len(execution_times)\n",
        "avg_discover /= len(discovery_times)\n",
        "print(avg_exec, avg_discover)    "
      ]
    }
  ],
  "metadata": {
    "colab": {
      "collapsed_sections": [],
      "name": "Karger.ipynb",
      "provenance": []
    },
    "kernelspec": {
      "display_name": "Python 3.9.12 ('base')",
      "language": "python",
      "name": "python3"
    },
    "language_info": {
      "codemirror_mode": {
        "name": "ipython",
        "version": 3
      },
      "file_extension": ".py",
      "mimetype": "text/x-python",
      "name": "python",
      "nbconvert_exporter": "python",
      "pygments_lexer": "ipython3",
      "version": "3.9.12"
    },
    "orig_nbformat": 4,
    "vscode": {
      "interpreter": {
        "hash": "813a118ffcaefd80d3e3cfa9b4de781e26b186a88833091817867fdd3449751e"
      }
    }
  },
  "nbformat": 4,
  "nbformat_minor": 0
}
